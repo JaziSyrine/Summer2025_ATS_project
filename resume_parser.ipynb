{
 "cells": [
  {
   "cell_type": "markdown",
   "id": "c62667e0",
   "metadata": {},
   "source": [
    "### Extracting text using PDFminer"
   ]
  },
  {
   "cell_type": "code",
   "execution_count": 10,
   "id": "9ebdd36a",
   "metadata": {},
   "outputs": [
    {
     "name": "stdout",
     "output_type": "stream",
     "text": [
      "PRIYANKA PADHI\n",
      "Guiding brands into being at Moshi Moshi - The Communication \n",
      "Company | Brand Consultancy | Poetry | Entertainment & Pop Culture\n",
      "\n",
      "E\n",
      "\n",
      "Phone\n",
      "\n",
      "\n",
      "\n",
      "Email\n",
      "\n",
      "q\n",
      "\n",
      "https://www.linkedin.com/in/priyanka-padhi-530746170/\n",
      "\n",
      "\n",
      "\n",
      "Bengaluru\n",
      "\n",
      "EXPERIENCE\n",
      "\n",
      "LANGUAGES\n",
      "\n",
      "Sr. Copy & Content Writer\n",
      "Moshi Moshi \u0000 The Communication Company\n",
      "\n",
      "05/2025 \u0000 Present \n",
      "\n",
      "Location\n",
      "\n",
      "Content Writer\n",
      "Moshi Moshi \u0000 The Communication Company\n",
      "\n",
      "12/2023 \u0000 06/2025 \n",
      "\n",
      "Bengaluru, India\n",
      "\n",
      "Content Writer\n",
      "01/2022 \u0000 Present \n",
      "\n",
      "Location\n",
      "\n",
      "Brand Strategist\n",
      "SOUTH ASIA LPG COMPANY PRIVATE LIMITED\n",
      "\n",
      "04/2023 \u0000 08/2023 \n",
      "\n",
      "Vishakhapatnam, India\n",
      "\n",
      "Content Strategist\n",
      "Burner Digital\n",
      "\n",
      "04/2023 \u0000 05/2023 \n",
      "\n",
      "India\n",
      "\n",
      "Sales And Marketing Intern\n",
      "IFORTIS WORLDWIDE™\n",
      "08/2021 \u0000 09/2021 \n",
      "\n",
      "India\n",
      "\n",
      "Social Media Marketing Intern\n",
      "LEARNOVATE ECOMMERCE\n",
      "India\n",
      "\n",
      "07/2021 \u0000 08/2021 \n",
      "\n",
      "EDUCATION\n",
      "\n",
      "Bachelor of Commerce - BCom, Commerce\n",
      "St. Joseph's College for Women \u0000Autonomous), Visakhapatnam\n",
      "\n",
      "07/2014 \u0000 07/2017 \n",
      "\n",
      "Master of Arts - MA, English Literature\n",
      "Dr. C. V. Raman Univer\n"
     ]
    }
   ],
   "source": [
    "from pdfminer.high_level import extract_text\n",
    "import os\n",
    "\n",
    "def extract_text_from_pdf(pdf_path):\n",
    "    return extract_text(pdf_path)\n",
    "sample_resume_path = \"C:\\\\Users\\\\Asus\\\\Documents\\\\Summer Internship 2025\\\\All Resumes\\\\Resume #18.pdf\"\n",
    "sample_text = extract_text_from_pdf(sample_resume_path)\n",
    "print(sample_text[:1000])"
   ]
  },
  {
   "cell_type": "markdown",
   "id": "cfd1f161",
   "metadata": {},
   "source": [
    "### Extracting Text using PDFplumber"
   ]
  },
  {
   "cell_type": "code",
   "execution_count": 11,
   "id": "025327f2",
   "metadata": {},
   "outputs": [
    {
     "name": "stdout",
     "output_type": "stream",
     "text": [
      "PDF has 2 pages.\n",
      "\n",
      "--- Page 1 ---\n",
      "Emma Smith\n",
      "User Experience Designer | Mobile Applications Expert\n",
      "EmmaSmith@gmail.com linkedin.com New York City, New York\n",
      "Summary\n",
      "As a seasoned User Experience Designer with over 5 years of experience in the gaming industry, I excel in collaborating with diverse teams\n",
      "to create engaging mobile applications. Skilled in Adobe XD and mobile-first design, I'm eager to develop cutting-edge entertainment that\n",
      "resonates with users. My career highlight includes leading the UX design for a game that hit \n",
      "\n",
      "--- Page 2 ---\n",
      "Skills\n",
      "Wireframing Prototyping Adobe XD Usability Testing Mobile-First Design Requirements Gathering User Research Visual Design\n",
      "Certification\n",
      "Adobe XD Essential Training In-depth course covering essentials of Adobe XD, offered by LinkedIn Learning\n",
      "User Experience Research and Design Specialized course providing insights on user-centered design, provided by Coursera\n",
      "Interests\n",
      "* Interactive Gaming 0 Digital Art\n",
      "Passionate about the gaming world Love for digital art and its application\n",
      "and its pot\n"
     ]
    }
   ],
   "source": [
    "import pdfplumber\n",
    "\n",
    "def extract_text_debug(pdf_path):\n",
    "    full_text = \"\"\n",
    "    with pdfplumber.open(pdf_path) as pdf:\n",
    "        print(f\"PDF has {len(pdf.pages)} pages.\")\n",
    "        for i, page in enumerate(pdf.pages):\n",
    "            text = page.extract_text()\n",
    "            print(f\"\\n--- Page {i + 1} ---\")\n",
    "            if text:\n",
    "                print(text[:500])  # Show first 500 chars\n",
    "                full_text += text + \"\\n\"\n",
    "            else:\n",
    "                print(\"⚠️ No text extracted on this page.\")\n",
    "    return full_text\n",
    "\n",
    "sample_resume_path = \"C:\\\\Users\\\\Asus\\\\Documents\\\\Summer Internship 2025\\\\All Resumes\\\\Resume #13.pdf\"\n",
    "sample_text = extract_text_debug(sample_resume_path)\n",
    "\n",
    "# Optional: Save the result\n",
    "with open(r\"extracted_text\\resume_extracted_PDFplumber.txt\", \"w\", encoding=\"utf-8\") as f:\n",
    "    f.write(sample_text)\n"
   ]
  },
  {
   "cell_type": "markdown",
   "id": "d464d0b0",
   "metadata": {},
   "source": [
    "### Converting PDF to image"
   ]
  },
  {
   "cell_type": "code",
   "execution_count": 18,
   "id": "848ad5a0",
   "metadata": {},
   "outputs": [],
   "source": [
    "from pdf2image import convert_from_path\n",
    "import os\n",
    "\n",
    "pdf_path = r\"C:\\Users\\Asus\\Documents\\Summer Internship 2025\\All Resumes\\Resume #14.pdf\"\n",
    "output_folder = r\"C:\\Users\\Asus\\Documents\\Summer Internship 2025\\ATS_projet\\Summer2025_ATS_project\\converted_images\"\n",
    "\n",
    "def convert_pdf_to_images(pdf_path, output_folder):\n",
    "    os.makedirs(output_folder, exist_ok=True)\n",
    "    images = convert_from_path(pdf_path)  # default path_only=False, means it returns PIL images not paths\n",
    "\n",
    "    # Save images to the output folder\n",
    "    for i, img in enumerate(images):\n",
    "        img.save(os.path.join(output_folder, f\"page_{i+1}.png\"))\n",
    "        \n",
    "    # Return paths of saved images\n",
    "    return [os.path.join(output_folder, f\"page_{i+1}.png\") for i in range(len(images))]\n"
   ]
  },
  {
   "cell_type": "code",
   "execution_count": 25,
   "id": "4eba2bc8",
   "metadata": {},
   "outputs": [
    {
     "name": "stdout",
     "output_type": "stream",
     "text": [
      "['C:\\\\Users\\\\Asus\\\\Documents\\\\Summer Internship 2025\\\\ATS_projet\\\\Summer2025_ATS_project\\\\converted_images\\\\page_1.png']\n"
     ]
    }
   ],
   "source": [
    "# Testing on one resume\n",
    "saved_images_path = convert_pdf_to_images(pdf_path, output_folder)\n",
    "print(saved_images_path)"
   ]
  },
  {
   "cell_type": "markdown",
   "id": "124d6344",
   "metadata": {},
   "source": [
    "### Using OCR"
   ]
  },
  {
   "cell_type": "code",
   "execution_count": 26,
   "id": "e27d82f6",
   "metadata": {},
   "outputs": [],
   "source": [
    "import pytesseract\n",
    "\n",
    "def extract_text_from_image(image_path):\n",
    "   text = pytesseract.image_to_string(image_path)\n",
    "   return text\n",
    "   "
   ]
  },
  {
   "cell_type": "code",
   "execution_count": 27,
   "id": "a854b41e",
   "metadata": {},
   "outputs": [],
   "source": [
    "def save_OCR_text_into_txt(path):\n",
    "    extracted_text=\"\"\n",
    "    for i, image_path in enumerate(path):\n",
    "        extracted_text += extract_text_from_image(path[i]) \n",
    "        with open(r\"extracted_text\\extracted_text_OCR_resume #14.txt\",\"w\", encoding=\"utf-8\") as output_file:\n",
    "            output_file.write(extracted_text)\n",
    "    print(f\"Extracted text from {path} and saved to 'extracted_text_OCR.txt'.\")\n"
   ]
  },
  {
   "cell_type": "code",
   "execution_count": 28,
   "id": "45453edf",
   "metadata": {},
   "outputs": [
    {
     "name": "stdout",
     "output_type": "stream",
     "text": [
      "Extracted text from ['C:\\\\Users\\\\Asus\\\\Documents\\\\Summer Internship 2025\\\\ATS_projet\\\\Summer2025_ATS_project\\\\converted_images\\\\page_1.png'] and saved to 'extracted_text_OCR.txt'.\n"
     ]
    }
   ],
   "source": [
    "save_OCR_text_into_txt(saved_images_path)"
   ]
  }
 ],
 "metadata": {
  "kernelspec": {
   "display_name": "ats_venv",
   "language": "python",
   "name": "python3"
  },
  "language_info": {
   "codemirror_mode": {
    "name": "ipython",
    "version": 3
   },
   "file_extension": ".py",
   "mimetype": "text/x-python",
   "name": "python",
   "nbconvert_exporter": "python",
   "pygments_lexer": "ipython3",
   "version": "3.12.4"
  }
 },
 "nbformat": 4,
 "nbformat_minor": 5
}
